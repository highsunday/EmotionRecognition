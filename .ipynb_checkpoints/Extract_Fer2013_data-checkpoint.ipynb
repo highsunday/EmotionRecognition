{
 "cells": [
  {
   "cell_type": "markdown",
   "metadata": {},
   "source": [
    "## fer2013  (48x48 pixel)"
   ]
  },
  {
   "cell_type": "code",
   "execution_count": 33,
   "metadata": {},
   "outputs": [],
   "source": [
    "import pandas as pd\n",
    "import numpy as np\n",
    "import cv2"
   ]
  },
  {
   "cell_type": "code",
   "execution_count": 86,
   "metadata": {},
   "outputs": [],
   "source": [
    "train_csv=pd.read_csv('data/challenges-in-representation-learning-facial-expression-recognition-challenge/fer2013/fer2013.csv')"
   ]
  },
  {
   "cell_type": "code",
   "execution_count": 87,
   "metadata": {},
   "outputs": [],
   "source": [
    "first=train_csv.iloc[[0]]"
   ]
  },
  {
   "cell_type": "code",
   "execution_count": 88,
   "metadata": {},
   "outputs": [
    {
     "data": {
      "text/html": [
       "<div>\n",
       "<style scoped>\n",
       "    .dataframe tbody tr th:only-of-type {\n",
       "        vertical-align: middle;\n",
       "    }\n",
       "\n",
       "    .dataframe tbody tr th {\n",
       "        vertical-align: top;\n",
       "    }\n",
       "\n",
       "    .dataframe thead th {\n",
       "        text-align: right;\n",
       "    }\n",
       "</style>\n",
       "<table border=\"1\" class=\"dataframe\">\n",
       "  <thead>\n",
       "    <tr style=\"text-align: right;\">\n",
       "      <th></th>\n",
       "      <th>emotion</th>\n",
       "      <th>pixels</th>\n",
       "      <th>Usage</th>\n",
       "    </tr>\n",
       "  </thead>\n",
       "  <tbody>\n",
       "    <tr>\n",
       "      <th>0</th>\n",
       "      <td>0</td>\n",
       "      <td>70 80 82 72 58 58 60 63 54 58 60 48 89 115 121...</td>\n",
       "      <td>Training</td>\n",
       "    </tr>\n",
       "  </tbody>\n",
       "</table>\n",
       "</div>"
      ],
      "text/plain": [
       "   emotion                                             pixels     Usage\n",
       "0        0  70 80 82 72 58 58 60 63 54 58 60 48 89 115 121...  Training"
      ]
     },
     "execution_count": 88,
     "metadata": {},
     "output_type": "execute_result"
    }
   ],
   "source": [
    "first"
   ]
  },
  {
   "cell_type": "code",
   "execution_count": 18,
   "metadata": {},
   "outputs": [],
   "source": [
    "#label: (0=Angry, 1=Disgust, 2=Fear, 3=Happy, 4=Sad, 5=Surprise, 6=Neutral)\n",
    "emotion_label={}\n",
    "emotion_label[0]=\"Angry\"\n",
    "emotion_label[1]=\"Disgust\"\n",
    "emotion_label[2]=\"Fear\"\n",
    "emotion_label[3]=\"Happy\"\n",
    "emotion_label[4]=\"Sad\"\n",
    "emotion_label[5]=\"Surprise\"\n",
    "emotion_label[6]=\"Neutral\""
   ]
  },
  {
   "cell_type": "code",
   "execution_count": 29,
   "metadata": {},
   "outputs": [
    {
     "data": {
      "text/plain": [
       "'Angry'"
      ]
     },
     "execution_count": 29,
     "metadata": {},
     "output_type": "execute_result"
    }
   ],
   "source": [
    "emotion_label[first.emotion.values[0]]"
   ]
  },
  {
   "cell_type": "code",
   "execution_count": 40,
   "metadata": {},
   "outputs": [],
   "source": [
    "image=first.pixels.values[0]"
   ]
  },
  {
   "cell_type": "code",
   "execution_count": 43,
   "metadata": {},
   "outputs": [],
   "source": [
    "image=image.split()\n",
    "image=np.array(image)\n",
    "image=image.reshape(48,48)"
   ]
  },
  {
   "cell_type": "code",
   "execution_count": 45,
   "metadata": {},
   "outputs": [],
   "source": [
    "uint_img = np.array(image).astype('uint8')\n",
    "grayImage = cv2.cvtColor(uint_img, cv2.COLOR_GRAY2BGR)"
   ]
  },
  {
   "cell_type": "code",
   "execution_count": 46,
   "metadata": {},
   "outputs": [],
   "source": [
    "# 顯示圖片\n",
    "cv2.imshow('My Image', grayImage)\n",
    "# 按下任意鍵則關閉所有視窗\n",
    "cv2.waitKey(0)\n",
    "cv2.destroyAllWindows()"
   ]
  },
  {
   "cell_type": "code",
   "execution_count": 84,
   "metadata": {},
   "outputs": [],
   "source": [
    "emotion_count={}\n",
    "emotion_count[0]=0\n",
    "emotion_count[1]=0\n",
    "emotion_count[2]=0\n",
    "emotion_count[3]=0\n",
    "emotion_count[4]=0\n",
    "emotion_count[5]=0\n",
    "emotion_count[6]=0\n",
    "\n",
    "def final_pop(emotion,pixels):\n",
    "    #print('emotion:', emotion_label[emotion])\n",
    "    files=emotion_label[emotion]\n",
    "    path='images/fer2013/All/'+files\n",
    "    index=emotion_count[emotion]\n",
    "    #print(files,index)\n",
    "    image=pixels.split()\n",
    "    image=np.array(image)\n",
    "    image=image.reshape(48,48)\n",
    "    uint_img = np.array(image).astype('uint8')\n",
    "    grayImage = cv2.cvtColor(uint_img, cv2.COLOR_GRAY2BGR)\n",
    "    # 寫入圖檔\n",
    "    cv2.imwrite(path+\"/\"+files+'_'+str(index)+'.jpg', grayImage)\n",
    "    index+=1\n",
    "    emotion_count[emotion]=index"
   ]
  },
  {
   "cell_type": "code",
   "execution_count": 89,
   "metadata": {},
   "outputs": [
    {
     "data": {
      "text/plain": [
       "0        None\n",
       "1        None\n",
       "2        None\n",
       "3        None\n",
       "4        None\n",
       "         ... \n",
       "35882    None\n",
       "35883    None\n",
       "35884    None\n",
       "35885    None\n",
       "35886    None\n",
       "Length: 35887, dtype: object"
      ]
     },
     "execution_count": 89,
     "metadata": {},
     "output_type": "execute_result"
    }
   ],
   "source": [
    "train_csv.apply(lambda x: final_pop(x['emotion'], x['pixels']), axis=1)"
   ]
  },
  {
   "cell_type": "code",
   "execution_count": null,
   "metadata": {},
   "outputs": [],
   "source": []
  },
  {
   "cell_type": "code",
   "execution_count": null,
   "metadata": {},
   "outputs": [],
   "source": []
  }
 ],
 "metadata": {
  "kernelspec": {
   "display_name": "python_yolo",
   "language": "python",
   "name": "python_yolo"
  },
  "language_info": {
   "codemirror_mode": {
    "name": "ipython",
    "version": 3
   },
   "file_extension": ".py",
   "mimetype": "text/x-python",
   "name": "python",
   "nbconvert_exporter": "python",
   "pygments_lexer": "ipython3",
   "version": "3.7.9"
  }
 },
 "nbformat": 4,
 "nbformat_minor": 4
}
